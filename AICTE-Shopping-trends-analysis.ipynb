{
 "cells": [
  {
   "cell_type": "code",
   "execution_count": 1,
   "id": "f1ec370b-a876-440e-a0b2-7a3962f238cd",
   "metadata": {},
   "outputs": [],
   "source": [
    "import pandas as pd\n",
    "import numpy as np"
   ]
  },
  {
   "cell_type": "code",
   "execution_count": 7,
   "id": "05451352-f523-4685-805e-887cb53ed022",
   "metadata": {},
   "outputs": [],
   "source": [
    "shop=pd.read_csv('shopping_trends_updated.csv')"
   ]
  },
  {
   "cell_type": "code",
   "execution_count": 8,
   "id": "e0873b3d-b875-4ed1-8af6-84bbcad8657b",
   "metadata": {},
   "outputs": [
    {
     "data": {
      "text/html": [
       "<div>\n",
       "<style scoped>\n",
       "    .dataframe tbody tr th:only-of-type {\n",
       "        vertical-align: middle;\n",
       "    }\n",
       "\n",
       "    .dataframe tbody tr th {\n",
       "        vertical-align: top;\n",
       "    }\n",
       "\n",
       "    .dataframe thead th {\n",
       "        text-align: right;\n",
       "    }\n",
       "</style>\n",
       "<table border=\"1\" class=\"dataframe\">\n",
       "  <thead>\n",
       "    <tr style=\"text-align: right;\">\n",
       "      <th></th>\n",
       "      <th>Customer ID</th>\n",
       "      <th>Age</th>\n",
       "      <th>Gender</th>\n",
       "      <th>Item Purchased</th>\n",
       "      <th>Category</th>\n",
       "      <th>Purchase Amount (USD)</th>\n",
       "      <th>Location</th>\n",
       "      <th>Size</th>\n",
       "      <th>Color</th>\n",
       "      <th>Season</th>\n",
       "      <th>Review Rating</th>\n",
       "      <th>Subscription Status</th>\n",
       "      <th>Shipping Type</th>\n",
       "      <th>Discount Applied</th>\n",
       "      <th>Promo Code Used</th>\n",
       "      <th>Previous Purchases</th>\n",
       "      <th>Payment Method</th>\n",
       "      <th>Frequency of Purchases</th>\n",
       "    </tr>\n",
       "  </thead>\n",
       "  <tbody>\n",
       "    <tr>\n",
       "      <th>0</th>\n",
       "      <td>1</td>\n",
       "      <td>55</td>\n",
       "      <td>Male</td>\n",
       "      <td>Blouse</td>\n",
       "      <td>Clothing</td>\n",
       "      <td>53</td>\n",
       "      <td>Kentucky</td>\n",
       "      <td>L</td>\n",
       "      <td>Gray</td>\n",
       "      <td>Winter</td>\n",
       "      <td>3.1</td>\n",
       "      <td>Yes</td>\n",
       "      <td>Express</td>\n",
       "      <td>Yes</td>\n",
       "      <td>Yes</td>\n",
       "      <td>14</td>\n",
       "      <td>Venmo</td>\n",
       "      <td>Fortnightly</td>\n",
       "    </tr>\n",
       "    <tr>\n",
       "      <th>1</th>\n",
       "      <td>2</td>\n",
       "      <td>19</td>\n",
       "      <td>Male</td>\n",
       "      <td>Sweater</td>\n",
       "      <td>Clothing</td>\n",
       "      <td>64</td>\n",
       "      <td>Maine</td>\n",
       "      <td>L</td>\n",
       "      <td>Maroon</td>\n",
       "      <td>Winter</td>\n",
       "      <td>3.1</td>\n",
       "      <td>Yes</td>\n",
       "      <td>Express</td>\n",
       "      <td>Yes</td>\n",
       "      <td>Yes</td>\n",
       "      <td>2</td>\n",
       "      <td>Cash</td>\n",
       "      <td>Fortnightly</td>\n",
       "    </tr>\n",
       "    <tr>\n",
       "      <th>2</th>\n",
       "      <td>3</td>\n",
       "      <td>50</td>\n",
       "      <td>Male</td>\n",
       "      <td>Jeans</td>\n",
       "      <td>Clothing</td>\n",
       "      <td>73</td>\n",
       "      <td>Massachusetts</td>\n",
       "      <td>S</td>\n",
       "      <td>Maroon</td>\n",
       "      <td>Spring</td>\n",
       "      <td>3.1</td>\n",
       "      <td>Yes</td>\n",
       "      <td>Free Shipping</td>\n",
       "      <td>Yes</td>\n",
       "      <td>Yes</td>\n",
       "      <td>23</td>\n",
       "      <td>Credit Card</td>\n",
       "      <td>Weekly</td>\n",
       "    </tr>\n",
       "    <tr>\n",
       "      <th>3</th>\n",
       "      <td>4</td>\n",
       "      <td>21</td>\n",
       "      <td>Male</td>\n",
       "      <td>Sandals</td>\n",
       "      <td>Footwear</td>\n",
       "      <td>90</td>\n",
       "      <td>Rhode Island</td>\n",
       "      <td>M</td>\n",
       "      <td>Maroon</td>\n",
       "      <td>Spring</td>\n",
       "      <td>3.5</td>\n",
       "      <td>Yes</td>\n",
       "      <td>Next Day Air</td>\n",
       "      <td>Yes</td>\n",
       "      <td>Yes</td>\n",
       "      <td>49</td>\n",
       "      <td>PayPal</td>\n",
       "      <td>Weekly</td>\n",
       "    </tr>\n",
       "    <tr>\n",
       "      <th>4</th>\n",
       "      <td>5</td>\n",
       "      <td>45</td>\n",
       "      <td>Male</td>\n",
       "      <td>Blouse</td>\n",
       "      <td>Clothing</td>\n",
       "      <td>49</td>\n",
       "      <td>Oregon</td>\n",
       "      <td>M</td>\n",
       "      <td>Turquoise</td>\n",
       "      <td>Spring</td>\n",
       "      <td>2.7</td>\n",
       "      <td>Yes</td>\n",
       "      <td>Free Shipping</td>\n",
       "      <td>Yes</td>\n",
       "      <td>Yes</td>\n",
       "      <td>31</td>\n",
       "      <td>PayPal</td>\n",
       "      <td>Annually</td>\n",
       "    </tr>\n",
       "  </tbody>\n",
       "</table>\n",
       "</div>"
      ],
      "text/plain": [
       "   Customer ID  Age Gender Item Purchased  Category  Purchase Amount (USD)  \\\n",
       "0            1   55   Male         Blouse  Clothing                     53   \n",
       "1            2   19   Male        Sweater  Clothing                     64   \n",
       "2            3   50   Male          Jeans  Clothing                     73   \n",
       "3            4   21   Male        Sandals  Footwear                     90   \n",
       "4            5   45   Male         Blouse  Clothing                     49   \n",
       "\n",
       "        Location Size      Color  Season  Review Rating Subscription Status  \\\n",
       "0       Kentucky    L       Gray  Winter            3.1                 Yes   \n",
       "1          Maine    L     Maroon  Winter            3.1                 Yes   \n",
       "2  Massachusetts    S     Maroon  Spring            3.1                 Yes   \n",
       "3   Rhode Island    M     Maroon  Spring            3.5                 Yes   \n",
       "4         Oregon    M  Turquoise  Spring            2.7                 Yes   \n",
       "\n",
       "   Shipping Type Discount Applied Promo Code Used  Previous Purchases  \\\n",
       "0        Express              Yes             Yes                  14   \n",
       "1        Express              Yes             Yes                   2   \n",
       "2  Free Shipping              Yes             Yes                  23   \n",
       "3   Next Day Air              Yes             Yes                  49   \n",
       "4  Free Shipping              Yes             Yes                  31   \n",
       "\n",
       "  Payment Method Frequency of Purchases  \n",
       "0          Venmo            Fortnightly  \n",
       "1           Cash            Fortnightly  \n",
       "2    Credit Card                 Weekly  \n",
       "3         PayPal                 Weekly  \n",
       "4         PayPal               Annually  "
      ]
     },
     "execution_count": 8,
     "metadata": {},
     "output_type": "execute_result"
    }
   ],
   "source": [
    "shop.head()"
   ]
  },
  {
   "cell_type": "code",
   "execution_count": 9,
   "id": "862311aa-aea7-411d-b824-96abb1d9e8b9",
   "metadata": {},
   "outputs": [
    {
     "data": {
      "text/plain": [
       "(3900, 18)"
      ]
     },
     "execution_count": 9,
     "metadata": {},
     "output_type": "execute_result"
    }
   ],
   "source": [
    "shop.shape"
   ]
  },
  {
   "cell_type": "code",
   "execution_count": 10,
   "id": "8326edd4-8b9c-43fa-9d59-28205e673023",
   "metadata": {},
   "outputs": [
    {
     "name": "stdout",
     "output_type": "stream",
     "text": [
      "<class 'pandas.core.frame.DataFrame'>\n",
      "RangeIndex: 3900 entries, 0 to 3899\n",
      "Data columns (total 18 columns):\n",
      " #   Column                  Non-Null Count  Dtype  \n",
      "---  ------                  --------------  -----  \n",
      " 0   Customer ID             3900 non-null   int64  \n",
      " 1   Age                     3900 non-null   int64  \n",
      " 2   Gender                  3900 non-null   object \n",
      " 3   Item Purchased          3900 non-null   object \n",
      " 4   Category                3900 non-null   object \n",
      " 5   Purchase Amount (USD)   3900 non-null   int64  \n",
      " 6   Location                3900 non-null   object \n",
      " 7   Size                    3900 non-null   object \n",
      " 8   Color                   3900 non-null   object \n",
      " 9   Season                  3900 non-null   object \n",
      " 10  Review Rating           3900 non-null   float64\n",
      " 11  Subscription Status     3900 non-null   object \n",
      " 12  Shipping Type           3900 non-null   object \n",
      " 13  Discount Applied        3900 non-null   object \n",
      " 14  Promo Code Used         3900 non-null   object \n",
      " 15  Previous Purchases      3900 non-null   int64  \n",
      " 16  Payment Method          3900 non-null   object \n",
      " 17  Frequency of Purchases  3900 non-null   object \n",
      "dtypes: float64(1), int64(4), object(13)\n",
      "memory usage: 548.6+ KB\n"
     ]
    }
   ],
   "source": [
    "shop.info()"
   ]
  },
  {
   "cell_type": "code",
   "execution_count": 11,
   "id": "d341c428-8bf5-4828-b7e2-b4cded22eda1",
   "metadata": {},
   "outputs": [
    {
     "data": {
      "text/plain": [
       "Index(['Customer ID', 'Age', 'Gender', 'Item Purchased', 'Category',\n",
       "       'Purchase Amount (USD)', 'Location', 'Size', 'Color', 'Season',\n",
       "       'Review Rating', 'Subscription Status', 'Shipping Type',\n",
       "       'Discount Applied', 'Promo Code Used', 'Previous Purchases',\n",
       "       'Payment Method', 'Frequency of Purchases'],\n",
       "      dtype='object')"
      ]
     },
     "execution_count": 11,
     "metadata": {},
     "output_type": "execute_result"
    }
   ],
   "source": [
    "shop.columns"
   ]
  },
  {
   "cell_type": "code",
   "execution_count": 12,
   "id": "bffd1529-14fe-483b-9f56-08a87fa3275e",
   "metadata": {},
   "outputs": [
    {
     "data": {
      "text/plain": [
       "Customer ID               0\n",
       "Age                       0\n",
       "Gender                    0\n",
       "Item Purchased            0\n",
       "Category                  0\n",
       "Purchase Amount (USD)     0\n",
       "Location                  0\n",
       "Size                      0\n",
       "Color                     0\n",
       "Season                    0\n",
       "Review Rating             0\n",
       "Subscription Status       0\n",
       "Shipping Type             0\n",
       "Discount Applied          0\n",
       "Promo Code Used           0\n",
       "Previous Purchases        0\n",
       "Payment Method            0\n",
       "Frequency of Purchases    0\n",
       "dtype: int64"
      ]
     },
     "execution_count": 12,
     "metadata": {},
     "output_type": "execute_result"
    }
   ],
   "source": [
    "shop.isnull().sum()"
   ]
  },
  {
   "cell_type": "code",
   "execution_count": 13,
   "id": "16ea3627-a265-414e-aa60-cc79685f67f1",
   "metadata": {},
   "outputs": [
    {
     "data": {
      "text/html": [
       "<div>\n",
       "<style scoped>\n",
       "    .dataframe tbody tr th:only-of-type {\n",
       "        vertical-align: middle;\n",
       "    }\n",
       "\n",
       "    .dataframe tbody tr th {\n",
       "        vertical-align: top;\n",
       "    }\n",
       "\n",
       "    .dataframe thead th {\n",
       "        text-align: right;\n",
       "    }\n",
       "</style>\n",
       "<table border=\"1\" class=\"dataframe\">\n",
       "  <thead>\n",
       "    <tr style=\"text-align: right;\">\n",
       "      <th></th>\n",
       "      <th>Customer ID</th>\n",
       "      <th>Age</th>\n",
       "      <th>Gender</th>\n",
       "      <th>Item Purchased</th>\n",
       "      <th>Category</th>\n",
       "      <th>Purchase Amount (USD)</th>\n",
       "      <th>Location</th>\n",
       "      <th>Size</th>\n",
       "      <th>Color</th>\n",
       "      <th>Season</th>\n",
       "      <th>Review Rating</th>\n",
       "      <th>Subscription Status</th>\n",
       "      <th>Shipping Type</th>\n",
       "      <th>Discount Applied</th>\n",
       "      <th>Promo Code Used</th>\n",
       "      <th>Previous Purchases</th>\n",
       "      <th>Payment Method</th>\n",
       "      <th>Frequency of Purchases</th>\n",
       "    </tr>\n",
       "  </thead>\n",
       "  <tbody>\n",
       "  </tbody>\n",
       "</table>\n",
       "</div>"
      ],
      "text/plain": [
       "Empty DataFrame\n",
       "Columns: [Customer ID, Age, Gender, Item Purchased, Category, Purchase Amount (USD), Location, Size, Color, Season, Review Rating, Subscription Status, Shipping Type, Discount Applied, Promo Code Used, Previous Purchases, Payment Method, Frequency of Purchases]\n",
       "Index: []"
      ]
     },
     "execution_count": 13,
     "metadata": {},
     "output_type": "execute_result"
    }
   ],
   "source": [
    "shop_dup=shop[shop.duplicated()]\n",
    "shop_dup"
   ]
  },
  {
   "cell_type": "code",
   "execution_count": 17,
   "id": "a01b5fdc-120e-4581-b5e3-dbf07c5502e1",
   "metadata": {},
   "outputs": [
    {
     "data": {
      "text/plain": [
       "array(['Male', 'Female'], dtype=object)"
      ]
     },
     "execution_count": 17,
     "metadata": {},
     "output_type": "execute_result"
    }
   ],
   "source": [
    "shop[\"Gender\"].unique()"
   ]
  },
  {
   "cell_type": "code",
   "execution_count": 18,
   "id": "df5bd399-f151-4e89-80e2-9e141f61f422",
   "metadata": {},
   "outputs": [
    {
     "data": {
      "text/html": [
       "<div>\n",
       "<style scoped>\n",
       "    .dataframe tbody tr th:only-of-type {\n",
       "        vertical-align: middle;\n",
       "    }\n",
       "\n",
       "    .dataframe tbody tr th {\n",
       "        vertical-align: top;\n",
       "    }\n",
       "\n",
       "    .dataframe thead th {\n",
       "        text-align: right;\n",
       "    }\n",
       "</style>\n",
       "<table border=\"1\" class=\"dataframe\">\n",
       "  <thead>\n",
       "    <tr style=\"text-align: right;\">\n",
       "      <th></th>\n",
       "      <th>Customer ID</th>\n",
       "      <th>Age</th>\n",
       "      <th>Purchase Amount (USD)</th>\n",
       "      <th>Review Rating</th>\n",
       "      <th>Previous Purchases</th>\n",
       "    </tr>\n",
       "  </thead>\n",
       "  <tbody>\n",
       "    <tr>\n",
       "      <th>count</th>\n",
       "      <td>3900.000000</td>\n",
       "      <td>3900.000000</td>\n",
       "      <td>3900.000000</td>\n",
       "      <td>3900.000000</td>\n",
       "      <td>3900.000000</td>\n",
       "    </tr>\n",
       "    <tr>\n",
       "      <th>mean</th>\n",
       "      <td>1950.500000</td>\n",
       "      <td>44.068462</td>\n",
       "      <td>59.764359</td>\n",
       "      <td>3.749949</td>\n",
       "      <td>25.351538</td>\n",
       "    </tr>\n",
       "    <tr>\n",
       "      <th>std</th>\n",
       "      <td>1125.977353</td>\n",
       "      <td>15.207589</td>\n",
       "      <td>23.685392</td>\n",
       "      <td>0.716223</td>\n",
       "      <td>14.447125</td>\n",
       "    </tr>\n",
       "    <tr>\n",
       "      <th>min</th>\n",
       "      <td>1.000000</td>\n",
       "      <td>18.000000</td>\n",
       "      <td>20.000000</td>\n",
       "      <td>2.500000</td>\n",
       "      <td>1.000000</td>\n",
       "    </tr>\n",
       "    <tr>\n",
       "      <th>25%</th>\n",
       "      <td>975.750000</td>\n",
       "      <td>31.000000</td>\n",
       "      <td>39.000000</td>\n",
       "      <td>3.100000</td>\n",
       "      <td>13.000000</td>\n",
       "    </tr>\n",
       "    <tr>\n",
       "      <th>50%</th>\n",
       "      <td>1950.500000</td>\n",
       "      <td>44.000000</td>\n",
       "      <td>60.000000</td>\n",
       "      <td>3.700000</td>\n",
       "      <td>25.000000</td>\n",
       "    </tr>\n",
       "    <tr>\n",
       "      <th>75%</th>\n",
       "      <td>2925.250000</td>\n",
       "      <td>57.000000</td>\n",
       "      <td>81.000000</td>\n",
       "      <td>4.400000</td>\n",
       "      <td>38.000000</td>\n",
       "    </tr>\n",
       "    <tr>\n",
       "      <th>max</th>\n",
       "      <td>3900.000000</td>\n",
       "      <td>70.000000</td>\n",
       "      <td>100.000000</td>\n",
       "      <td>5.000000</td>\n",
       "      <td>50.000000</td>\n",
       "    </tr>\n",
       "  </tbody>\n",
       "</table>\n",
       "</div>"
      ],
      "text/plain": [
       "       Customer ID          Age  Purchase Amount (USD)  Review Rating  \\\n",
       "count  3900.000000  3900.000000            3900.000000    3900.000000   \n",
       "mean   1950.500000    44.068462              59.764359       3.749949   \n",
       "std    1125.977353    15.207589              23.685392       0.716223   \n",
       "min       1.000000    18.000000              20.000000       2.500000   \n",
       "25%     975.750000    31.000000              39.000000       3.100000   \n",
       "50%    1950.500000    44.000000              60.000000       3.700000   \n",
       "75%    2925.250000    57.000000              81.000000       4.400000   \n",
       "max    3900.000000    70.000000             100.000000       5.000000   \n",
       "\n",
       "       Previous Purchases  \n",
       "count         3900.000000  \n",
       "mean            25.351538  \n",
       "std             14.447125  \n",
       "min              1.000000  \n",
       "25%             13.000000  \n",
       "50%             25.000000  \n",
       "75%             38.000000  \n",
       "max             50.000000  "
      ]
     },
     "execution_count": 18,
     "metadata": {},
     "output_type": "execute_result"
    }
   ],
   "source": [
    "shop.describe()"
   ]
  },
  {
   "cell_type": "code",
   "execution_count": 19,
   "id": "74e0fa0a-596f-4e9e-9e02-0c02e2b07247",
   "metadata": {},
   "outputs": [
    {
     "data": {
      "text/html": [
       "<div>\n",
       "<style scoped>\n",
       "    .dataframe tbody tr th:only-of-type {\n",
       "        vertical-align: middle;\n",
       "    }\n",
       "\n",
       "    .dataframe tbody tr th {\n",
       "        vertical-align: top;\n",
       "    }\n",
       "\n",
       "    .dataframe thead th {\n",
       "        text-align: right;\n",
       "    }\n",
       "</style>\n",
       "<table border=\"1\" class=\"dataframe\">\n",
       "  <thead>\n",
       "    <tr style=\"text-align: right;\">\n",
       "      <th></th>\n",
       "      <th>Gender</th>\n",
       "      <th>Item Purchased</th>\n",
       "      <th>Category</th>\n",
       "      <th>Location</th>\n",
       "      <th>Size</th>\n",
       "      <th>Color</th>\n",
       "      <th>Season</th>\n",
       "      <th>Subscription Status</th>\n",
       "      <th>Shipping Type</th>\n",
       "      <th>Discount Applied</th>\n",
       "      <th>Promo Code Used</th>\n",
       "      <th>Payment Method</th>\n",
       "      <th>Frequency of Purchases</th>\n",
       "    </tr>\n",
       "  </thead>\n",
       "  <tbody>\n",
       "    <tr>\n",
       "      <th>count</th>\n",
       "      <td>3900</td>\n",
       "      <td>3900</td>\n",
       "      <td>3900</td>\n",
       "      <td>3900</td>\n",
       "      <td>3900</td>\n",
       "      <td>3900</td>\n",
       "      <td>3900</td>\n",
       "      <td>3900</td>\n",
       "      <td>3900</td>\n",
       "      <td>3900</td>\n",
       "      <td>3900</td>\n",
       "      <td>3900</td>\n",
       "      <td>3900</td>\n",
       "    </tr>\n",
       "    <tr>\n",
       "      <th>unique</th>\n",
       "      <td>2</td>\n",
       "      <td>25</td>\n",
       "      <td>4</td>\n",
       "      <td>50</td>\n",
       "      <td>4</td>\n",
       "      <td>25</td>\n",
       "      <td>4</td>\n",
       "      <td>2</td>\n",
       "      <td>6</td>\n",
       "      <td>2</td>\n",
       "      <td>2</td>\n",
       "      <td>6</td>\n",
       "      <td>7</td>\n",
       "    </tr>\n",
       "    <tr>\n",
       "      <th>top</th>\n",
       "      <td>Male</td>\n",
       "      <td>Blouse</td>\n",
       "      <td>Clothing</td>\n",
       "      <td>Montana</td>\n",
       "      <td>M</td>\n",
       "      <td>Olive</td>\n",
       "      <td>Spring</td>\n",
       "      <td>No</td>\n",
       "      <td>Free Shipping</td>\n",
       "      <td>No</td>\n",
       "      <td>No</td>\n",
       "      <td>PayPal</td>\n",
       "      <td>Every 3 Months</td>\n",
       "    </tr>\n",
       "    <tr>\n",
       "      <th>freq</th>\n",
       "      <td>2652</td>\n",
       "      <td>171</td>\n",
       "      <td>1737</td>\n",
       "      <td>96</td>\n",
       "      <td>1755</td>\n",
       "      <td>177</td>\n",
       "      <td>999</td>\n",
       "      <td>2847</td>\n",
       "      <td>675</td>\n",
       "      <td>2223</td>\n",
       "      <td>2223</td>\n",
       "      <td>677</td>\n",
       "      <td>584</td>\n",
       "    </tr>\n",
       "  </tbody>\n",
       "</table>\n",
       "</div>"
      ],
      "text/plain": [
       "       Gender Item Purchased  Category Location  Size  Color  Season  \\\n",
       "count    3900           3900      3900     3900  3900   3900    3900   \n",
       "unique      2             25         4       50     4     25       4   \n",
       "top      Male         Blouse  Clothing  Montana     M  Olive  Spring   \n",
       "freq     2652            171      1737       96  1755    177     999   \n",
       "\n",
       "       Subscription Status  Shipping Type Discount Applied Promo Code Used  \\\n",
       "count                 3900           3900             3900            3900   \n",
       "unique                   2              6                2               2   \n",
       "top                     No  Free Shipping               No              No   \n",
       "freq                  2847            675             2223            2223   \n",
       "\n",
       "       Payment Method Frequency of Purchases  \n",
       "count            3900                   3900  \n",
       "unique              6                      7  \n",
       "top            PayPal         Every 3 Months  \n",
       "freq              677                    584  "
      ]
     },
     "execution_count": 19,
     "metadata": {},
     "output_type": "execute_result"
    }
   ],
   "source": [
    "shop.describe(include=\"object\")"
   ]
  },
  {
   "cell_type": "markdown",
   "id": "ae186e24-7183-4642-8254-f8b7f14fadf5",
   "metadata": {},
   "source": [
    "Descriptive Analysis"
   ]
  },
  {
   "cell_type": "code",
   "execution_count": null,
   "id": "79bee83f-6aee-4d7a-89db-96398a706c35",
   "metadata": {},
   "outputs": [],
   "source": [
    "pip install plotly"
   ]
  },
  {
   "cell_type": "code",
   "execution_count": 31,
   "id": "6a194c6f-7f20-4ba3-a766-66e21a2917c9",
   "metadata": {},
   "outputs": [
    {
     "name": "stdout",
     "output_type": "stream",
     "text": [
      "Requirement already satisfied: matplotlib in c:\\users\\user\\appdata\\local\\programs\\python\\python312\\lib\\site-packages (3.10.0)Note: you may need to restart the kernel to use updated packages.\n",
      "\n",
      "Requirement already satisfied: contourpy>=1.0.1 in c:\\users\\user\\appdata\\local\\programs\\python\\python312\\lib\\site-packages (from matplotlib) (1.3.1)\n",
      "Requirement already satisfied: cycler>=0.10 in c:\\users\\user\\appdata\\local\\programs\\python\\python312\\lib\\site-packages (from matplotlib) (0.12.1)\n",
      "Requirement already satisfied: fonttools>=4.22.0 in c:\\users\\user\\appdata\\local\\programs\\python\\python312\\lib\\site-packages (from matplotlib) (4.55.8)\n",
      "Requirement already satisfied: kiwisolver>=1.3.1 in c:\\users\\user\\appdata\\local\\programs\\python\\python312\\lib\\site-packages (from matplotlib) (1.4.8)\n",
      "Requirement already satisfied: numpy>=1.23 in c:\\users\\user\\appdata\\local\\programs\\python\\python312\\lib\\site-packages (from matplotlib) (2.2.2)\n",
      "Requirement already satisfied: packaging>=20.0 in c:\\users\\user\\appdata\\local\\programs\\python\\python312\\lib\\site-packages (from matplotlib) (24.2)\n",
      "Requirement already satisfied: pillow>=8 in c:\\users\\user\\appdata\\local\\programs\\python\\python312\\lib\\site-packages (from matplotlib) (11.1.0)\n",
      "Requirement already satisfied: pyparsing>=2.3.1 in c:\\users\\user\\appdata\\local\\programs\\python\\python312\\lib\\site-packages (from matplotlib) (3.2.1)\n",
      "Requirement already satisfied: python-dateutil>=2.7 in c:\\users\\user\\appdata\\local\\programs\\python\\python312\\lib\\site-packages (from matplotlib) (2.9.0.post0)\n",
      "Requirement already satisfied: six>=1.5 in c:\\users\\user\\appdata\\local\\programs\\python\\python312\\lib\\site-packages (from python-dateutil>=2.7->matplotlib) (1.17.0)\n"
     ]
    },
    {
     "name": "stderr",
     "output_type": "stream",
     "text": [
      "\n",
      "[notice] A new release of pip is available: 24.3.1 -> 25.0\n",
      "[notice] To update, run: python.exe -m pip install --upgrade pip\n"
     ]
    }
   ],
   "source": [
    "pip install matplotlib"
   ]
  },
  {
   "cell_type": "code",
   "execution_count": 32,
   "id": "c31d0895-e5fa-4800-9395-f581f18cff24",
   "metadata": {},
   "outputs": [
    {
     "ename": "ModuleNotFoundError",
     "evalue": "No module named 'seaborn'",
     "output_type": "error",
     "traceback": [
      "\u001b[1;31m---------------------------------------------------------------------------\u001b[0m",
      "\u001b[1;31mModuleNotFoundError\u001b[0m                       Traceback (most recent call last)",
      "Cell \u001b[1;32mIn[32], line 2\u001b[0m\n\u001b[0;32m      1\u001b[0m \u001b[38;5;28;01mimport\u001b[39;00m\u001b[38;5;250m \u001b[39m\u001b[38;5;21;01mmatplotlib\u001b[39;00m\u001b[38;5;21;01m.\u001b[39;00m\u001b[38;5;21;01mpyplot\u001b[39;00m\u001b[38;5;250m \u001b[39m\u001b[38;5;28;01mas\u001b[39;00m\u001b[38;5;250m \u001b[39m\u001b[38;5;21;01mplt\u001b[39;00m\n\u001b[1;32m----> 2\u001b[0m \u001b[38;5;28;01mimport\u001b[39;00m\u001b[38;5;250m \u001b[39m\u001b[38;5;21;01mseaborn\u001b[39;00m\u001b[38;5;250m \u001b[39m\u001b[38;5;28;01mas\u001b[39;00m\u001b[38;5;250m \u001b[39m\u001b[38;5;21;01msns\u001b[39;00m\n\u001b[0;32m      3\u001b[0m \u001b[38;5;28;01mimport\u001b[39;00m\u001b[38;5;250m \u001b[39m\u001b[38;5;21;01mplotly\u001b[39;00m\u001b[38;5;21;01m.\u001b[39;00m\u001b[38;5;21;01mexpress\u001b[39;00m\u001b[38;5;250m \u001b[39m\u001b[38;5;28;01mas\u001b[39;00m\u001b[38;5;250m \u001b[39m\u001b[38;5;21;01mpx\u001b[39;00m\n\u001b[0;32m      4\u001b[0m get_ipython()\u001b[38;5;241m.\u001b[39mrun_line_magic(\u001b[38;5;124m'\u001b[39m\u001b[38;5;124mmatplotlib\u001b[39m\u001b[38;5;124m'\u001b[39m, \u001b[38;5;124m'\u001b[39m\u001b[38;5;124minline\u001b[39m\u001b[38;5;124m'\u001b[39m)\n",
      "\u001b[1;31mModuleNotFoundError\u001b[0m: No module named 'seaborn'"
     ]
    }
   ],
   "source": [
    "import matplotlib.pyplot as plt\n",
    "import seaborn as sns\n",
    "import plotly.express as px\n",
    "%matplotlib inline"
   ]
  },
  {
   "cell_type": "code",
   "execution_count": 33,
   "id": "79d3105f-a89a-49b2-b181-d574da08734d",
   "metadata": {},
   "outputs": [
    {
     "data": {
      "text/html": [
       "<div>\n",
       "<style scoped>\n",
       "    .dataframe tbody tr th:only-of-type {\n",
       "        vertical-align: middle;\n",
       "    }\n",
       "\n",
       "    .dataframe tbody tr th {\n",
       "        vertical-align: top;\n",
       "    }\n",
       "\n",
       "    .dataframe thead th {\n",
       "        text-align: right;\n",
       "    }\n",
       "</style>\n",
       "<table border=\"1\" class=\"dataframe\">\n",
       "  <thead>\n",
       "    <tr style=\"text-align: right;\">\n",
       "      <th></th>\n",
       "      <th>Customer ID</th>\n",
       "      <th>Age</th>\n",
       "      <th>Gender</th>\n",
       "      <th>Item Purchased</th>\n",
       "      <th>Category</th>\n",
       "      <th>Purchase Amount (USD)</th>\n",
       "      <th>Location</th>\n",
       "      <th>Size</th>\n",
       "      <th>Color</th>\n",
       "      <th>Season</th>\n",
       "      <th>Review Rating</th>\n",
       "      <th>Subscription Status</th>\n",
       "      <th>Shipping Type</th>\n",
       "      <th>Discount Applied</th>\n",
       "      <th>Promo Code Used</th>\n",
       "      <th>Previous Purchases</th>\n",
       "      <th>Payment Method</th>\n",
       "      <th>Frequency of Purchases</th>\n",
       "      <th>Age_category</th>\n",
       "    </tr>\n",
       "  </thead>\n",
       "  <tbody>\n",
       "    <tr>\n",
       "      <th>0</th>\n",
       "      <td>1</td>\n",
       "      <td>55</td>\n",
       "      <td>Male</td>\n",
       "      <td>Blouse</td>\n",
       "      <td>Clothing</td>\n",
       "      <td>53</td>\n",
       "      <td>Kentucky</td>\n",
       "      <td>L</td>\n",
       "      <td>Gray</td>\n",
       "      <td>Winter</td>\n",
       "      <td>3.1</td>\n",
       "      <td>Yes</td>\n",
       "      <td>Express</td>\n",
       "      <td>Yes</td>\n",
       "      <td>Yes</td>\n",
       "      <td>14</td>\n",
       "      <td>Venmo</td>\n",
       "      <td>Fortnightly</td>\n",
       "      <td>old</td>\n",
       "    </tr>\n",
       "    <tr>\n",
       "      <th>1</th>\n",
       "      <td>2</td>\n",
       "      <td>19</td>\n",
       "      <td>Male</td>\n",
       "      <td>Sweater</td>\n",
       "      <td>Clothing</td>\n",
       "      <td>64</td>\n",
       "      <td>Maine</td>\n",
       "      <td>L</td>\n",
       "      <td>Maroon</td>\n",
       "      <td>Winter</td>\n",
       "      <td>3.1</td>\n",
       "      <td>Yes</td>\n",
       "      <td>Express</td>\n",
       "      <td>Yes</td>\n",
       "      <td>Yes</td>\n",
       "      <td>2</td>\n",
       "      <td>Cash</td>\n",
       "      <td>Fortnightly</td>\n",
       "      <td>Young Adults</td>\n",
       "    </tr>\n",
       "    <tr>\n",
       "      <th>2</th>\n",
       "      <td>3</td>\n",
       "      <td>50</td>\n",
       "      <td>Male</td>\n",
       "      <td>Jeans</td>\n",
       "      <td>Clothing</td>\n",
       "      <td>73</td>\n",
       "      <td>Massachusetts</td>\n",
       "      <td>S</td>\n",
       "      <td>Maroon</td>\n",
       "      <td>Spring</td>\n",
       "      <td>3.1</td>\n",
       "      <td>Yes</td>\n",
       "      <td>Free Shipping</td>\n",
       "      <td>Yes</td>\n",
       "      <td>Yes</td>\n",
       "      <td>23</td>\n",
       "      <td>Credit Card</td>\n",
       "      <td>Weekly</td>\n",
       "      <td>Middle-Aged Adults</td>\n",
       "    </tr>\n",
       "    <tr>\n",
       "      <th>3</th>\n",
       "      <td>4</td>\n",
       "      <td>21</td>\n",
       "      <td>Male</td>\n",
       "      <td>Sandals</td>\n",
       "      <td>Footwear</td>\n",
       "      <td>90</td>\n",
       "      <td>Rhode Island</td>\n",
       "      <td>M</td>\n",
       "      <td>Maroon</td>\n",
       "      <td>Spring</td>\n",
       "      <td>3.5</td>\n",
       "      <td>Yes</td>\n",
       "      <td>Next Day Air</td>\n",
       "      <td>Yes</td>\n",
       "      <td>Yes</td>\n",
       "      <td>49</td>\n",
       "      <td>PayPal</td>\n",
       "      <td>Weekly</td>\n",
       "      <td>Young Adults</td>\n",
       "    </tr>\n",
       "    <tr>\n",
       "      <th>4</th>\n",
       "      <td>5</td>\n",
       "      <td>45</td>\n",
       "      <td>Male</td>\n",
       "      <td>Blouse</td>\n",
       "      <td>Clothing</td>\n",
       "      <td>49</td>\n",
       "      <td>Oregon</td>\n",
       "      <td>M</td>\n",
       "      <td>Turquoise</td>\n",
       "      <td>Spring</td>\n",
       "      <td>2.7</td>\n",
       "      <td>Yes</td>\n",
       "      <td>Free Shipping</td>\n",
       "      <td>Yes</td>\n",
       "      <td>Yes</td>\n",
       "      <td>31</td>\n",
       "      <td>PayPal</td>\n",
       "      <td>Annually</td>\n",
       "      <td>Middle-Aged Adults</td>\n",
       "    </tr>\n",
       "  </tbody>\n",
       "</table>\n",
       "</div>"
      ],
      "text/plain": [
       "   Customer ID  Age Gender Item Purchased  Category  Purchase Amount (USD)  \\\n",
       "0            1   55   Male         Blouse  Clothing                     53   \n",
       "1            2   19   Male        Sweater  Clothing                     64   \n",
       "2            3   50   Male          Jeans  Clothing                     73   \n",
       "3            4   21   Male        Sandals  Footwear                     90   \n",
       "4            5   45   Male         Blouse  Clothing                     49   \n",
       "\n",
       "        Location Size      Color  Season  Review Rating Subscription Status  \\\n",
       "0       Kentucky    L       Gray  Winter            3.1                 Yes   \n",
       "1          Maine    L     Maroon  Winter            3.1                 Yes   \n",
       "2  Massachusetts    S     Maroon  Spring            3.1                 Yes   \n",
       "3   Rhode Island    M     Maroon  Spring            3.5                 Yes   \n",
       "4         Oregon    M  Turquoise  Spring            2.7                 Yes   \n",
       "\n",
       "   Shipping Type Discount Applied Promo Code Used  Previous Purchases  \\\n",
       "0        Express              Yes             Yes                  14   \n",
       "1        Express              Yes             Yes                   2   \n",
       "2  Free Shipping              Yes             Yes                  23   \n",
       "3   Next Day Air              Yes             Yes                  49   \n",
       "4  Free Shipping              Yes             Yes                  31   \n",
       "\n",
       "  Payment Method Frequency of Purchases        Age_category  \n",
       "0          Venmo            Fortnightly                 old  \n",
       "1           Cash            Fortnightly        Young Adults  \n",
       "2    Credit Card                 Weekly  Middle-Aged Adults  \n",
       "3         PayPal                 Weekly        Young Adults  \n",
       "4         PayPal               Annually  Middle-Aged Adults  "
      ]
     },
     "execution_count": 33,
     "metadata": {},
     "output_type": "execute_result"
    }
   ],
   "source": [
    "shop['Age_category'] = pd.cut(shop['Age'], bins= [0,15, 18 , 30 , 50 , 70] , labels= ['child' , 'teen' , 'Young Adults' ,'Middle-Aged Adults'\n",
    "                                                                                             , 'old'] )\n",
    "shop.head()"
   ]
  },
  {
   "cell_type": "code",
   "execution_count": 37,
   "id": "58644096-5e8f-4c51-9949-7bdc9c65f28f",
   "metadata": {},
   "outputs": [
    {
     "data": {
      "text/plain": [
       "(array([212., 206., 153., 231., 147., 224., 214., 147., 226., 159., 199.,\n",
       "        223., 155., 226., 147., 243., 213., 148., 197., 230.]),\n",
       " array([18. , 20.6, 23.2, 25.8, 28.4, 31. , 33.6, 36.2, 38.8, 41.4, 44. ,\n",
       "        46.6, 49.2, 51.8, 54.4, 57. , 59.6, 62.2, 64.8, 67.4, 70. ]),\n",
       " <BarContainer object of 20 artists>)"
      ]
     },
     "execution_count": 37,
     "metadata": {},
     "output_type": "execute_result"
    },
    {
     "data": {
      "image/png": "[encoded data removed]",
      "text/plain": [
       "<Figure size 640x480 with 1 Axes>"
      ]
     },
     "metadata": {},
     "output_type": "display_data"
    }
   ],
   "source": [
    "plt.hist(shop[\"Age\"],bins=20)"
   ]
  },
  {
   "cell_type": "code",
   "execution_count": 39,
   "id": "df619f96-b1a6-4e6a-8991-8277c73caabf",
   "metadata": {},
   "outputs": [
    {
     "data": {
      "text/plain": [
       "<Axes: xlabel='Gender'>"
      ]
     },
     "execution_count": 39,
     "metadata": {},
     "output_type": "execute_result"
    },
    {
     "data": {
      "image/png": "[encoded data removed]",
      "text/plain": [
       "<Figure size 640x480 with 1 Axes>"
      ]
     },
     "metadata": {},
     "output_type": "display_data"
    }
   ],
   "source": [
    "shop[\"Gender\"].value_counts().plot(kind='bar')"
   ]
  },
  {
   "cell_type": "code",
   "execution_count": 44,
   "id": "0e4fde4f-2958-45b4-b5ce-bfd4206352ca",
   "metadata": {},
   "outputs": [
    {
     "data": {
      "text/plain": [
       "Text(0.5, 0, 'Gender')"
      ]
     },
     "execution_count": 44,
     "metadata": {},
     "output_type": "execute_result"
    },
    {
     "data": {
      "image/png": "[encoded data removed]",
      "text/plain": [
       "<Figure size 640x480 with 1 Axes>"
      ]
     },
     "metadata": {},
     "output_type": "display_data"
    }
   ],
   "source": [
    "data=shop[\"Gender\"].value_counts()\n",
    "data.plot(kind='pie',explode=(0,0.1),autopct='%1.1f%%')\n",
    "plt.xlabel(\"Gender\")"
   ]
  },
  {
   "cell_type": "code",
   "execution_count": 45,
   "id": "3dc0ce9b-d407-4bee-8e0c-38e422e593ae",
   "metadata": {},
   "outputs": [
    {
     "data": {
      "image/png": "[encoded data removed]",
      "text/plain": [
       "<Figure size 640x480 with 1 Axes>"
      ]
     },
     "metadata": {},
     "output_type": "display_data"
    }
   ],
   "source": [
    "ax =shop['Category'].value_counts().plot(kind='bar',rot=0)\n",
    "for p in ax.patches:\n",
    "    ax.annotate(int(p.get_height()),(p.get_x()+0.25,p.get_height()+1),ha='center')\n",
    "plt.xlabel(\"Category\",weight='bold')\n",
    "plt.ylabel(\"Number of occurance\",weight='bold')\n",
    "plt.show()"
   ]
  },
  {
   "cell_type": "code",
   "execution_count": 46,
   "id": "d80a2947-f968-4531-ba64-3239e9664364",
   "metadata": {},
   "outputs": [
    {
     "data": {
      "image/png": "[encoded data removed]",
      "text/plain": [
       "<Figure size 2000x600 with 1 Axes>"
      ]
     },
     "metadata": {},
     "output_type": "display_data"
    }
   ],
   "source": [
    "plt.figure(figsize=(20,6))\n",
    "data=shop['Category'].value_counts()\n",
    "explode=[0.1]*len(data)\n",
    "data.plot(kind='pie',explode=explode,autopct='%1.1f%%')\n",
    "plt.xlabel('Category')\n",
    "plt.legend()\n",
    "plt.show()"
   ]
  },
  {
   "cell_type": "code",
   "execution_count": 51,
   "id": "e71676e1-07cc-4bc1-9273-d6f3e0e0192e",
   "metadata": {},
   "outputs": [],
   "source": [
    "import seaborn as sns"
   ]
  },
  {
   "cell_type": "code",
   "execution_count": 53,
   "id": "a627b118-5219-4620-972f-1e5bbc30e8cc",
   "metadata": {},
   "outputs": [
    {
     "data": {
      "text/plain": [
       "Index(['Customer ID', 'Age', 'Gender', 'Item Purchased', 'Category',\n",
       "       'Purchase Amount (USD)', 'Location', 'Size', 'Color', 'Season',\n",
       "       'Review Rating', 'Subscription Status', 'Shipping Type',\n",
       "       'Discount Applied', 'Promo Code Used', 'Previous Purchases',\n",
       "       'Payment Method', 'Frequency of Purchases', 'Age_category'],\n",
       "      dtype='object')"
      ]
     },
     "execution_count": 53,
     "metadata": {},
     "output_type": "execute_result"
    }
   ],
   "source": [
    "shop.columns"
   ]
  },
  {
   "cell_type": "code",
   "execution_count": 54,
   "id": "0a1a7e2a-656b-48af-a924-de3fa8cb5449",
   "metadata": {},
   "outputs": [
    {
     "data": {
      "text/plain": [
       "Season\n",
       "Spring    999\n",
       "Fall      975\n",
       "Winter    971\n",
       "Summer    955\n",
       "Name: count, dtype: int64"
      ]
     },
     "execution_count": 54,
     "metadata": {},
     "output_type": "execute_result"
    }
   ],
   "source": [
    "data=shop['Season'].value_counts()\n",
    "data"
   ]
  },
  {
   "cell_type": "code",
   "execution_count": 55,
   "id": "e65b6c9d-891c-468a-938f-6a99f45886e1",
   "metadata": {},
   "outputs": [
    {
     "data": {
      "image/png": "[encoded data removed]",
      "text/plain": [
       "<Figure size 2000x600 with 1 Axes>"
      ]
     },
     "metadata": {},
     "output_type": "display_data"
    }
   ],
   "source": [
    "plt.figure(figsize=(20,6))\n",
    "data=shop['Season'].value_counts()\n",
    "explode=[0.1]*len(data)\n",
    "data.plot(kind='pie',explode=explode,autopct='%1.1f%%')\n",
    "plt.xlabel('Category')\n",
    "plt.legend()\n",
    "plt.show()"
   ]
  },
  {
   "cell_type": "code",
   "execution_count": 56,
   "id": "0a36abe2-5a0f-41dd-9708-c9cd36d90823",
   "metadata": {},
   "outputs": [
    {
     "data": {
      "text/plain": [
       "Index(['Customer ID', 'Age', 'Gender', 'Item Purchased', 'Category',\n",
       "       'Purchase Amount (USD)', 'Location', 'Size', 'Color', 'Season',\n",
       "       'Review Rating', 'Subscription Status', 'Shipping Type',\n",
       "       'Discount Applied', 'Promo Code Used', 'Previous Purchases',\n",
       "       'Payment Method', 'Frequency of Purchases', 'Age_category'],\n",
       "      dtype='object')"
      ]
     },
     "execution_count": 56,
     "metadata": {},
     "output_type": "execute_result"
    }
   ],
   "source": [
    "shop.columns"
   ]
  },
  {
   "cell_type": "code",
   "execution_count": 57,
   "id": "fa04fb9c-e643-4cba-a5e8-c0f27fe3dae4",
   "metadata": {},
   "outputs": [
    {
     "data": {
      "text/plain": [
       "array(['Yes', 'No'], dtype=object)"
      ]
     },
     "execution_count": 57,
     "metadata": {},
     "output_type": "execute_result"
    }
   ],
   "source": [
    "shop[\"Subscription Status\"].unique()"
   ]
  },
  {
   "cell_type": "code",
   "execution_count": 59,
   "id": "a97fab94-3fa6-4098-8d36-afb953e7b89a",
   "metadata": {},
   "outputs": [
    {
     "data": {
      "text/plain": [
       "Payment Method\n",
       "Debit Card       60.915094\n",
       "Credit Card      60.074516\n",
       "Bank Transfer    59.712418\n",
       "Cash             59.704478\n",
       "PayPal           59.245199\n",
       "Venmo            58.949527\n",
       "Name: Purchase Amount (USD), dtype: float64"
      ]
     },
     "execution_count": 59,
     "metadata": {},
     "output_type": "execute_result"
    }
   ],
   "source": [
    "shop.groupby('Payment Method')['Purchase Amount (USD)'].mean().sort_values(ascending= False)"
   ]
  },
  {
   "cell_type": "code",
   "execution_count": 60,
   "id": "95f5b36d-b739-4cae-ad11-a46b63965835",
   "metadata": {},
   "outputs": [
    {
     "data": {
      "text/plain": [
       "<Axes: xlabel='Payment Method', ylabel='Purchase Amount (USD)'>"
      ]
     },
     "execution_count": 60,
     "metadata": {},
     "output_type": "execute_result"
    },
    {
     "data": {
      "image/png": "[encoded data removed]",
      "text/plain": [
       "<Figure size 640x480 with 1 Axes>"
      ]
     },
     "metadata": {},
     "output_type": "display_data"
    }
   ],
   "source": [
    "sns.barplot(shop ,x='Payment Method' , y = 'Purchase Amount (USD)')"
   ]
  },
  {
   "cell_type": "code",
   "execution_count": 62,
   "id": "760a8aa1-4e2a-41af-aed1-0eb32b1226ff",
   "metadata": {},
   "outputs": [
    {
     "data": {
      "text/plain": [
       "Index(['Customer ID', 'Age', 'Gender', 'Item Purchased', 'Category',\n",
       "       'Purchase Amount (USD)', 'Location', 'Size', 'Color', 'Season',\n",
       "       'Review Rating', 'Subscription Status', 'Shipping Type',\n",
       "       'Discount Applied', 'Promo Code Used', 'Previous Purchases',\n",
       "       'Payment Method', 'Frequency of Purchases', 'Age_category'],\n",
       "      dtype='object')"
      ]
     },
     "execution_count": 62,
     "metadata": {},
     "output_type": "execute_result"
    }
   ],
   "source": [
    "shop.columns"
   ]
  },
  {
   "cell_type": "code",
   "execution_count": 63,
   "id": "faf7c97b-bb8f-418f-9624-4763c4415e66",
   "metadata": {},
   "outputs": [
    {
     "name": "stdout",
     "output_type": "stream",
     "text": [
      "<class 'pandas.core.frame.DataFrame'>\n",
      "RangeIndex: 3900 entries, 0 to 3899\n",
      "Data columns (total 19 columns):\n",
      " #   Column                  Non-Null Count  Dtype   \n",
      "---  ------                  --------------  -----   \n",
      " 0   Customer ID             3900 non-null   int64   \n",
      " 1   Age                     3900 non-null   int64   \n",
      " 2   Gender                  3900 non-null   object  \n",
      " 3   Item Purchased          3900 non-null   object  \n",
      " 4   Category                3900 non-null   object  \n",
      " 5   Purchase Amount (USD)   3900 non-null   int64   \n",
      " 6   Location                3900 non-null   object  \n",
      " 7   Size                    3900 non-null   object  \n",
      " 8   Color                   3900 non-null   object  \n",
      " 9   Season                  3900 non-null   object  \n",
      " 10  Review Rating           3900 non-null   float64 \n",
      " 11  Subscription Status     3900 non-null   object  \n",
      " 12  Shipping Type           3900 non-null   object  \n",
      " 13  Discount Applied        3900 non-null   object  \n",
      " 14  Promo Code Used         3900 non-null   object  \n",
      " 15  Previous Purchases      3900 non-null   int64   \n",
      " 16  Payment Method          3900 non-null   object  \n",
      " 17  Frequency of Purchases  3900 non-null   object  \n",
      " 18  Age_category            3900 non-null   category\n",
      "dtypes: category(1), float64(1), int64(4), object(13)\n",
      "memory usage: 552.6+ KB\n"
     ]
    }
   ],
   "source": [
    "shop.info()"
   ]
  },
  {
   "cell_type": "code",
   "execution_count": 67,
   "id": "227c2330-ec94-4fad-a2ac-14c74b729740",
   "metadata": {},
   "outputs": [
    {
     "data": {
      "text/plain": [
       "Payment Method\n",
       "Debit Card       60.915094\n",
       "Credit Card      60.074516\n",
       "Bank Transfer    59.712418\n",
       "Cash             59.704478\n",
       "PayPal           59.245199\n",
       "Venmo            58.949527\n",
       "Name: Purchase Amount (USD), dtype: float64"
      ]
     },
     "execution_count": 67,
     "metadata": {},
     "output_type": "execute_result"
    }
   ],
   "source": [
    "shop.groupby('Payment Method')['Purchase Amount (USD)'].mean().sort_values(ascending= False)"
   ]
  },
  {
   "cell_type": "code",
   "execution_count": 68,
   "id": "072caeb7-8fef-434f-b31c-d246e1054136",
   "metadata": {},
   "outputs": [],
   "source": [
    "shop_groupby = shop.groupby('Payment Method')['Purchase Amount (USD)'].mean().reset_index()"
   ]
  },
  {
   "cell_type": "code",
   "execution_count": 70,
   "id": "26c3ffed-e9cc-4efc-8c89-85820b48d610",
   "metadata": {},
   "outputs": [
    {
     "data": {
      "text/plain": [
       "<Axes: xlabel='Payment Method', ylabel='Purchase Amount (USD)'>"
      ]
     },
     "execution_count": 70,
     "metadata": {},
     "output_type": "execute_result"
    },
    {
     "data": {
      "image/png": "[encoded data removed]",
      "text/plain": [
       "<Figure size 640x480 with 1 Axes>"
      ]
     },
     "metadata": {},
     "output_type": "display_data"
    }
   ],
   "source": [
    "sns.barplot(shop ,x='Payment Method' , y = 'Purchase Amount (USD)')"
   ]
  },
  {
   "cell_type": "code",
   "execution_count": 71,
   "id": "6fe8b6f6-9840-4e3e-8b1d-2840ede77e37",
   "metadata": {},
   "outputs": [],
   "source": [
    "shop_groupby  = shop.groupby('Promo Code Used')['Purchase Amount (USD)'].sum().reset_index()"
   ]
  },
  {
   "cell_type": "code",
   "execution_count": 72,
   "id": "d4baf40e-651a-4281-ba95-2b9e883a3b0e",
   "metadata": {},
   "outputs": [
    {
     "data": {
      "text/html": [
       "<div>\n",
       "<style scoped>\n",
       "    .dataframe tbody tr th:only-of-type {\n",
       "        vertical-align: middle;\n",
       "    }\n",
       "\n",
       "    .dataframe tbody tr th {\n",
       "        vertical-align: top;\n",
       "    }\n",
       "\n",
       "    .dataframe thead th {\n",
       "        text-align: right;\n",
       "    }\n",
       "</style>\n",
       "<table border=\"1\" class=\"dataframe\">\n",
       "  <thead>\n",
       "    <tr style=\"text-align: right;\">\n",
       "      <th></th>\n",
       "      <th>Age</th>\n",
       "      <th>Age_category</th>\n",
       "    </tr>\n",
       "  </thead>\n",
       "  <tbody>\n",
       "    <tr>\n",
       "      <th>0</th>\n",
       "      <td>55</td>\n",
       "      <td>old</td>\n",
       "    </tr>\n",
       "    <tr>\n",
       "      <th>1</th>\n",
       "      <td>19</td>\n",
       "      <td>Young Adults</td>\n",
       "    </tr>\n",
       "    <tr>\n",
       "      <th>2</th>\n",
       "      <td>50</td>\n",
       "      <td>Middle-Aged Adults</td>\n",
       "    </tr>\n",
       "    <tr>\n",
       "      <th>3</th>\n",
       "      <td>21</td>\n",
       "      <td>Young Adults</td>\n",
       "    </tr>\n",
       "    <tr>\n",
       "      <th>4</th>\n",
       "      <td>45</td>\n",
       "      <td>Middle-Aged Adults</td>\n",
       "    </tr>\n",
       "    <tr>\n",
       "      <th>...</th>\n",
       "      <td>...</td>\n",
       "      <td>...</td>\n",
       "    </tr>\n",
       "    <tr>\n",
       "      <th>3895</th>\n",
       "      <td>40</td>\n",
       "      <td>Middle-Aged Adults</td>\n",
       "    </tr>\n",
       "    <tr>\n",
       "      <th>3896</th>\n",
       "      <td>52</td>\n",
       "      <td>old</td>\n",
       "    </tr>\n",
       "    <tr>\n",
       "      <th>3897</th>\n",
       "      <td>46</td>\n",
       "      <td>Middle-Aged Adults</td>\n",
       "    </tr>\n",
       "    <tr>\n",
       "      <th>3898</th>\n",
       "      <td>44</td>\n",
       "      <td>Middle-Aged Adults</td>\n",
       "    </tr>\n",
       "    <tr>\n",
       "      <th>3899</th>\n",
       "      <td>52</td>\n",
       "      <td>old</td>\n",
       "    </tr>\n",
       "  </tbody>\n",
       "</table>\n",
       "<p>3900 rows × 2 columns</p>\n",
       "</div>"
      ],
      "text/plain": [
       "      Age        Age_category\n",
       "0      55                 old\n",
       "1      19        Young Adults\n",
       "2      50  Middle-Aged Adults\n",
       "3      21        Young Adults\n",
       "4      45  Middle-Aged Adults\n",
       "...   ...                 ...\n",
       "3895   40  Middle-Aged Adults\n",
       "3896   52                 old\n",
       "3897   46  Middle-Aged Adults\n",
       "3898   44  Middle-Aged Adults\n",
       "3899   52                 old\n",
       "\n",
       "[3900 rows x 2 columns]"
      ]
     },
     "execution_count": 72,
     "metadata": {},
     "output_type": "execute_result"
    }
   ],
   "source": [
    "shop[['Age' , 'Age_category']]"
   ]
  },
  {
   "cell_type": "code",
   "execution_count": 73,
   "id": "a5ce4e4e-5b45-43a6-a5f1-d0adcdfd8dbc",
   "metadata": {},
   "outputs": [
    {
     "data": {
      "text/plain": [
       "['old', 'Young Adults', 'Middle-Aged Adults', 'teen']\n",
       "Categories (5, object): ['child' < 'teen' < 'Young Adults' < 'Middle-Aged Adults' < 'old']"
      ]
     },
     "execution_count": 73,
     "metadata": {},
     "output_type": "execute_result"
    }
   ],
   "source": [
    "shop['Age_category'].unique()"
   ]
  },
  {
   "cell_type": "code",
   "execution_count": 74,
   "id": "ad658add-e811-4f02-9475-8eeb3fd81d48",
   "metadata": {},
   "outputs": [],
   "source": [
    "shop_group = shop.groupby('Frequency of Purchases')['Age'].sum()"
   ]
  },
  {
   "cell_type": "code",
   "execution_count": 75,
   "id": "ab47edfa-a432-4ef1-9e66-e4de55c366ac",
   "metadata": {},
   "outputs": [
    {
     "data": {
      "text/plain": [
       "Index(['Customer ID', 'Age', 'Gender', 'Item Purchased', 'Category',\n",
       "       'Purchase Amount (USD)', 'Location', 'Size', 'Color', 'Season',\n",
       "       'Review Rating', 'Subscription Status', 'Shipping Type',\n",
       "       'Discount Applied', 'Promo Code Used', 'Previous Purchases',\n",
       "       'Payment Method', 'Frequency of Purchases', 'Age_category'],\n",
       "      dtype='object')"
      ]
     },
     "execution_count": 75,
     "metadata": {},
     "output_type": "execute_result"
    }
   ],
   "source": [
    "shop.columns"
   ]
  },
  {
   "cell_type": "code",
   "execution_count": 76,
   "id": "42fc5dc6-8ac6-431a-a4ef-d9df81e2be52",
   "metadata": {},
   "outputs": [
    {
     "data": {
      "text/plain": [
       "Category     Shipping Type \n",
       "Clothing     Standard          297\n",
       "             Free Shipping     294\n",
       "             Next Day Air      293\n",
       "             Express           290\n",
       "             Store Pickup      282\n",
       "             2-Day Shipping    281\n",
       "Accessories  Store Pickup      217\n",
       "             Next Day Air      211\n",
       "             Standard          208\n",
       "             2-Day Shipping    206\n",
       "             Express           203\n",
       "             Free Shipping     195\n",
       "Footwear     Free Shipping     122\n",
       "             Standard          100\n",
       "             Store Pickup       98\n",
       "             Express            96\n",
       "             Next Day Air       93\n",
       "             2-Day Shipping     90\n",
       "Outerwear    Free Shipping      64\n",
       "             Express            57\n",
       "             Store Pickup       53\n",
       "             Next Day Air       51\n",
       "             2-Day Shipping     50\n",
       "             Standard           49\n",
       "Name: count, dtype: int64"
      ]
     },
     "execution_count": 76,
     "metadata": {},
     "output_type": "execute_result"
    }
   ],
   "source": [
    "shop.groupby('Category')['Shipping Type'].value_counts().sort_values(ascending= False)"
   ]
  },
  {
   "cell_type": "code",
   "execution_count": 77,
   "id": "306c0847-79e5-42bd-a990-45a9d715c67b",
   "metadata": {},
   "outputs": [
    {
     "data": {
      "text/plain": [
       "np.float64(25.35153846153846)"
      ]
     },
     "execution_count": 77,
     "metadata": {},
     "output_type": "execute_result"
    }
   ],
   "source": [
    "shop['Previous Purchases'].mean()"
   ]
  },
  {
   "cell_type": "code",
   "execution_count": 78,
   "id": "e1b6b393-798b-46f9-b69f-68269d2e779d",
   "metadata": {},
   "outputs": [
    {
     "data": {
      "text/plain": [
       "Location\n",
       "Alaska            67.597222\n",
       "Pennsylvania      66.567568\n",
       "Arizona           66.553846\n",
       "West Virginia     63.876543\n",
       "Nevada            63.379310\n",
       "Washington        63.328767\n",
       "North Dakota      62.891566\n",
       "Virginia          62.883117\n",
       "Utah              62.577465\n",
       "Michigan          62.095890\n",
       "Tennessee         61.974026\n",
       "New Mexico        61.901235\n",
       "Rhode Island      61.444444\n",
       "Texas             61.194805\n",
       "Arkansas          61.113924\n",
       "Illinois          61.054348\n",
       "Mississippi       61.037500\n",
       "Massachusetts     60.888889\n",
       "Iowa              60.884058\n",
       "North Carolina    60.794872\n",
       "Wyoming           60.690141\n",
       "South Dakota      60.514286\n",
       "New York          60.425287\n",
       "Ohio              60.376623\n",
       "Montana           60.250000\n",
       "Idaho             60.075269\n",
       "Nebraska          59.448276\n",
       "New Hampshire     59.422535\n",
       "Alabama           59.112360\n",
       "California        59.000000\n",
       "Indiana           58.924051\n",
       "Georgia           58.797468\n",
       "South Carolina    58.407895\n",
       "Oklahoma          58.346667\n",
       "Missouri          57.913580\n",
       "Hawaii            57.723077\n",
       "Louisiana         57.714286\n",
       "Oregon            57.337838\n",
       "Vermont           57.176471\n",
       "Maine             56.987013\n",
       "New Jersey        56.746269\n",
       "Minnesota         56.556818\n",
       "Colorado          56.293333\n",
       "Wisconsin         55.946667\n",
       "Florida           55.852941\n",
       "Maryland          55.755814\n",
       "Kentucky          55.721519\n",
       "Delaware          55.325581\n",
       "Kansas            54.555556\n",
       "Connecticut       54.179487\n",
       "Name: Purchase Amount (USD), dtype: float64"
      ]
     },
     "execution_count": 78,
     "metadata": {},
     "output_type": "execute_result"
    }
   ],
   "source": [
    "shop.groupby('Location')['Purchase Amount (USD)'].mean().sort_values(ascending = False)\n"
   ]
  },
  {
   "cell_type": "code",
   "execution_count": 80,
   "id": "40e0db47-30b4-4bcd-8bb9-e0c0d725f7c8",
   "metadata": {},
   "outputs": [],
   "source": [
    "shop_group = shop.groupby('Category')['Age'].mean().reset_index()\n"
   ]
  },
  {
   "cell_type": "code",
   "execution_count": null,
   "id": "4aa9022d-6762-4827-913b-a8094b2ead8d",
   "metadata": {},
   "outputs": [],
   "source": []
  }
 ],
 "metadata": {
  "kernelspec": {
   "display_name": "Python 3 (ipykernel)",
   "language": "python",
   "name": "python3"
  },
  "language_info": {
   "codemirror_mode": {
    "name": "ipython",
    "version": 3
   },
   "file_extension": ".py",
   "mimetype": "text/x-python",
   "name": "python",
   "nbconvert_exporter": "python",
   "pygments_lexer": "ipython3",
   "version": "3.12.8"
  }
 },
 "nbformat": 4,
 "nbformat_minor": 5
}
